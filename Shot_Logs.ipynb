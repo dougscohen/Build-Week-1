{
  "nbformat": 4,
  "nbformat_minor": 0,
  "metadata": {
    "colab": {
      "name": "Shot Logs.ipynb",
      "provenance": [],
      "collapsed_sections": [],
      "authorship_tag": "ABX9TyPM0rQT465uuu0uYpkERrDY",
      "include_colab_link": true
    },
    "kernelspec": {
      "name": "python3",
      "display_name": "Python 3"
    }
  },
  "cells": [
    {
      "cell_type": "markdown",
      "metadata": {
        "id": "view-in-github",
        "colab_type": "text"
      },
      "source": [
        "<a href=\"https://colab.research.google.com/github/dougscohen/Build-Week-1/blob/master/Shot_Logs.ipynb\" target=\"_parent\"><img src=\"https://colab.research.google.com/assets/colab-badge.svg\" alt=\"Open In Colab\"/></a>"
      ]
    },
    {
      "cell_type": "code",
      "metadata": {
        "id": "gsb-nEJc_EM_",
        "colab_type": "code",
        "colab": {}
      },
      "source": [
        "# Import necessary libraries\n",
        "\n",
        "import pandas as pd\n",
        "import numpy as np\n",
        "import matplotlib.pyplot as plt\n",
        "from scipy import stats"
      ],
      "execution_count": 0,
      "outputs": []
    },
    {
      "cell_type": "code",
      "metadata": {
        "id": "mU_fxtIR_GNo",
        "colab_type": "code",
        "outputId": "4607ff81-b5b5-438a-c04b-e707bacf6636",
        "colab": {
          "base_uri": "https://localhost:8080/",
          "height": 485
        }
      },
      "source": [
        "# Import Shot Logs data\n",
        "\n",
        "df = pd.read_csv('shot_logs.csv')\n",
        "\n",
        "# Analyze shape, and print the first 5 observations\n",
        "\n",
        "print(df.shape)\n",
        "df.head()"
      ],
      "execution_count": 2,
      "outputs": [
        {
          "output_type": "stream",
          "text": [
            "(128069, 21)\n"
          ],
          "name": "stdout"
        },
        {
          "output_type": "execute_result",
          "data": {
            "text/html": [
              "<div>\n",
              "<style scoped>\n",
              "    .dataframe tbody tr th:only-of-type {\n",
              "        vertical-align: middle;\n",
              "    }\n",
              "\n",
              "    .dataframe tbody tr th {\n",
              "        vertical-align: top;\n",
              "    }\n",
              "\n",
              "    .dataframe thead th {\n",
              "        text-align: right;\n",
              "    }\n",
              "</style>\n",
              "<table border=\"1\" class=\"dataframe\">\n",
              "  <thead>\n",
              "    <tr style=\"text-align: right;\">\n",
              "      <th></th>\n",
              "      <th>GAME_ID</th>\n",
              "      <th>MATCHUP</th>\n",
              "      <th>LOCATION</th>\n",
              "      <th>W</th>\n",
              "      <th>FINAL_MARGIN</th>\n",
              "      <th>SHOT_NUMBER</th>\n",
              "      <th>PERIOD</th>\n",
              "      <th>GAME_CLOCK</th>\n",
              "      <th>SHOT_CLOCK</th>\n",
              "      <th>DRIBBLES</th>\n",
              "      <th>TOUCH_TIME</th>\n",
              "      <th>SHOT_DIST</th>\n",
              "      <th>PTS_TYPE</th>\n",
              "      <th>SHOT_RESULT</th>\n",
              "      <th>CLOSEST_DEFENDER</th>\n",
              "      <th>CLOSEST_DEFENDER_PLAYER_ID</th>\n",
              "      <th>CLOSE_DEF_DIST</th>\n",
              "      <th>FGM</th>\n",
              "      <th>PTS</th>\n",
              "      <th>player_name</th>\n",
              "      <th>player_id</th>\n",
              "    </tr>\n",
              "  </thead>\n",
              "  <tbody>\n",
              "    <tr>\n",
              "      <th>0</th>\n",
              "      <td>21400899</td>\n",
              "      <td>MAR 04, 2015 - CHA @ BKN</td>\n",
              "      <td>A</td>\n",
              "      <td>W</td>\n",
              "      <td>24</td>\n",
              "      <td>1</td>\n",
              "      <td>1</td>\n",
              "      <td>1:09</td>\n",
              "      <td>10.8</td>\n",
              "      <td>2</td>\n",
              "      <td>1.9</td>\n",
              "      <td>7.7</td>\n",
              "      <td>2</td>\n",
              "      <td>made</td>\n",
              "      <td>Anderson, Alan</td>\n",
              "      <td>101187</td>\n",
              "      <td>1.3</td>\n",
              "      <td>1</td>\n",
              "      <td>2</td>\n",
              "      <td>brian roberts</td>\n",
              "      <td>203148</td>\n",
              "    </tr>\n",
              "    <tr>\n",
              "      <th>1</th>\n",
              "      <td>21400899</td>\n",
              "      <td>MAR 04, 2015 - CHA @ BKN</td>\n",
              "      <td>A</td>\n",
              "      <td>W</td>\n",
              "      <td>24</td>\n",
              "      <td>2</td>\n",
              "      <td>1</td>\n",
              "      <td>0:14</td>\n",
              "      <td>3.4</td>\n",
              "      <td>0</td>\n",
              "      <td>0.8</td>\n",
              "      <td>28.2</td>\n",
              "      <td>3</td>\n",
              "      <td>missed</td>\n",
              "      <td>Bogdanovic, Bojan</td>\n",
              "      <td>202711</td>\n",
              "      <td>6.1</td>\n",
              "      <td>0</td>\n",
              "      <td>0</td>\n",
              "      <td>brian roberts</td>\n",
              "      <td>203148</td>\n",
              "    </tr>\n",
              "    <tr>\n",
              "      <th>2</th>\n",
              "      <td>21400899</td>\n",
              "      <td>MAR 04, 2015 - CHA @ BKN</td>\n",
              "      <td>A</td>\n",
              "      <td>W</td>\n",
              "      <td>24</td>\n",
              "      <td>3</td>\n",
              "      <td>1</td>\n",
              "      <td>0:00</td>\n",
              "      <td>NaN</td>\n",
              "      <td>3</td>\n",
              "      <td>2.7</td>\n",
              "      <td>10.1</td>\n",
              "      <td>2</td>\n",
              "      <td>missed</td>\n",
              "      <td>Bogdanovic, Bojan</td>\n",
              "      <td>202711</td>\n",
              "      <td>0.9</td>\n",
              "      <td>0</td>\n",
              "      <td>0</td>\n",
              "      <td>brian roberts</td>\n",
              "      <td>203148</td>\n",
              "    </tr>\n",
              "    <tr>\n",
              "      <th>3</th>\n",
              "      <td>21400899</td>\n",
              "      <td>MAR 04, 2015 - CHA @ BKN</td>\n",
              "      <td>A</td>\n",
              "      <td>W</td>\n",
              "      <td>24</td>\n",
              "      <td>4</td>\n",
              "      <td>2</td>\n",
              "      <td>11:47</td>\n",
              "      <td>10.3</td>\n",
              "      <td>2</td>\n",
              "      <td>1.9</td>\n",
              "      <td>17.2</td>\n",
              "      <td>2</td>\n",
              "      <td>missed</td>\n",
              "      <td>Brown, Markel</td>\n",
              "      <td>203900</td>\n",
              "      <td>3.4</td>\n",
              "      <td>0</td>\n",
              "      <td>0</td>\n",
              "      <td>brian roberts</td>\n",
              "      <td>203148</td>\n",
              "    </tr>\n",
              "    <tr>\n",
              "      <th>4</th>\n",
              "      <td>21400899</td>\n",
              "      <td>MAR 04, 2015 - CHA @ BKN</td>\n",
              "      <td>A</td>\n",
              "      <td>W</td>\n",
              "      <td>24</td>\n",
              "      <td>5</td>\n",
              "      <td>2</td>\n",
              "      <td>10:34</td>\n",
              "      <td>10.9</td>\n",
              "      <td>2</td>\n",
              "      <td>2.7</td>\n",
              "      <td>3.7</td>\n",
              "      <td>2</td>\n",
              "      <td>missed</td>\n",
              "      <td>Young, Thaddeus</td>\n",
              "      <td>201152</td>\n",
              "      <td>1.1</td>\n",
              "      <td>0</td>\n",
              "      <td>0</td>\n",
              "      <td>brian roberts</td>\n",
              "      <td>203148</td>\n",
              "    </tr>\n",
              "  </tbody>\n",
              "</table>\n",
              "</div>"
            ],
            "text/plain": [
              "    GAME_ID                   MATCHUP LOCATION  ... PTS    player_name  player_id\n",
              "0  21400899  MAR 04, 2015 - CHA @ BKN        A  ...   2  brian roberts     203148\n",
              "1  21400899  MAR 04, 2015 - CHA @ BKN        A  ...   0  brian roberts     203148\n",
              "2  21400899  MAR 04, 2015 - CHA @ BKN        A  ...   0  brian roberts     203148\n",
              "3  21400899  MAR 04, 2015 - CHA @ BKN        A  ...   0  brian roberts     203148\n",
              "4  21400899  MAR 04, 2015 - CHA @ BKN        A  ...   0  brian roberts     203148\n",
              "\n",
              "[5 rows x 21 columns]"
            ]
          },
          "metadata": {
            "tags": []
          },
          "execution_count": 2
        }
      ]
    },
    {
      "cell_type": "code",
      "metadata": {
        "id": "nDHy0yjT1ofh",
        "colab_type": "code",
        "outputId": "81923d4c-5e8e-46ff-bece-f88c879b342b",
        "colab": {
          "base_uri": "https://localhost:8080/",
          "height": 485
        }
      },
      "source": [
        "# Create subset of the dataframe where we only include shots that were made\n",
        "\n",
        "made_subset = df[df['SHOT_RESULT'] == 'made']\n",
        "\n",
        "print(made_subset.shape)\n",
        "made_subset.head()"
      ],
      "execution_count": 3,
      "outputs": [
        {
          "output_type": "stream",
          "text": [
            "(57905, 21)\n"
          ],
          "name": "stdout"
        },
        {
          "output_type": "execute_result",
          "data": {
            "text/html": [
              "<div>\n",
              "<style scoped>\n",
              "    .dataframe tbody tr th:only-of-type {\n",
              "        vertical-align: middle;\n",
              "    }\n",
              "\n",
              "    .dataframe tbody tr th {\n",
              "        vertical-align: top;\n",
              "    }\n",
              "\n",
              "    .dataframe thead th {\n",
              "        text-align: right;\n",
              "    }\n",
              "</style>\n",
              "<table border=\"1\" class=\"dataframe\">\n",
              "  <thead>\n",
              "    <tr style=\"text-align: right;\">\n",
              "      <th></th>\n",
              "      <th>GAME_ID</th>\n",
              "      <th>MATCHUP</th>\n",
              "      <th>LOCATION</th>\n",
              "      <th>W</th>\n",
              "      <th>FINAL_MARGIN</th>\n",
              "      <th>SHOT_NUMBER</th>\n",
              "      <th>PERIOD</th>\n",
              "      <th>GAME_CLOCK</th>\n",
              "      <th>SHOT_CLOCK</th>\n",
              "      <th>DRIBBLES</th>\n",
              "      <th>TOUCH_TIME</th>\n",
              "      <th>SHOT_DIST</th>\n",
              "      <th>PTS_TYPE</th>\n",
              "      <th>SHOT_RESULT</th>\n",
              "      <th>CLOSEST_DEFENDER</th>\n",
              "      <th>CLOSEST_DEFENDER_PLAYER_ID</th>\n",
              "      <th>CLOSE_DEF_DIST</th>\n",
              "      <th>FGM</th>\n",
              "      <th>PTS</th>\n",
              "      <th>player_name</th>\n",
              "      <th>player_id</th>\n",
              "    </tr>\n",
              "  </thead>\n",
              "  <tbody>\n",
              "    <tr>\n",
              "      <th>0</th>\n",
              "      <td>21400899</td>\n",
              "      <td>MAR 04, 2015 - CHA @ BKN</td>\n",
              "      <td>A</td>\n",
              "      <td>W</td>\n",
              "      <td>24</td>\n",
              "      <td>1</td>\n",
              "      <td>1</td>\n",
              "      <td>1:09</td>\n",
              "      <td>10.8</td>\n",
              "      <td>2</td>\n",
              "      <td>1.9</td>\n",
              "      <td>7.7</td>\n",
              "      <td>2</td>\n",
              "      <td>made</td>\n",
              "      <td>Anderson, Alan</td>\n",
              "      <td>101187</td>\n",
              "      <td>1.3</td>\n",
              "      <td>1</td>\n",
              "      <td>2</td>\n",
              "      <td>brian roberts</td>\n",
              "      <td>203148</td>\n",
              "    </tr>\n",
              "    <tr>\n",
              "      <th>7</th>\n",
              "      <td>21400899</td>\n",
              "      <td>MAR 04, 2015 - CHA @ BKN</td>\n",
              "      <td>A</td>\n",
              "      <td>W</td>\n",
              "      <td>24</td>\n",
              "      <td>8</td>\n",
              "      <td>4</td>\n",
              "      <td>8:00</td>\n",
              "      <td>3.4</td>\n",
              "      <td>3</td>\n",
              "      <td>2.5</td>\n",
              "      <td>3.5</td>\n",
              "      <td>2</td>\n",
              "      <td>made</td>\n",
              "      <td>Plumlee, Mason</td>\n",
              "      <td>203486</td>\n",
              "      <td>2.1</td>\n",
              "      <td>1</td>\n",
              "      <td>2</td>\n",
              "      <td>brian roberts</td>\n",
              "      <td>203148</td>\n",
              "    </tr>\n",
              "    <tr>\n",
              "      <th>11</th>\n",
              "      <td>21400890</td>\n",
              "      <td>MAR 03, 2015 - CHA vs. LAL</td>\n",
              "      <td>H</td>\n",
              "      <td>W</td>\n",
              "      <td>1</td>\n",
              "      <td>3</td>\n",
              "      <td>4</td>\n",
              "      <td>11:32</td>\n",
              "      <td>12.1</td>\n",
              "      <td>14</td>\n",
              "      <td>11.9</td>\n",
              "      <td>14.6</td>\n",
              "      <td>2</td>\n",
              "      <td>made</td>\n",
              "      <td>Lin, Jeremy</td>\n",
              "      <td>202391</td>\n",
              "      <td>1.8</td>\n",
              "      <td>1</td>\n",
              "      <td>2</td>\n",
              "      <td>brian roberts</td>\n",
              "      <td>203148</td>\n",
              "    </tr>\n",
              "    <tr>\n",
              "      <th>12</th>\n",
              "      <td>21400890</td>\n",
              "      <td>MAR 03, 2015 - CHA vs. LAL</td>\n",
              "      <td>H</td>\n",
              "      <td>W</td>\n",
              "      <td>1</td>\n",
              "      <td>4</td>\n",
              "      <td>4</td>\n",
              "      <td>8:55</td>\n",
              "      <td>4.3</td>\n",
              "      <td>2</td>\n",
              "      <td>2.9</td>\n",
              "      <td>5.9</td>\n",
              "      <td>2</td>\n",
              "      <td>made</td>\n",
              "      <td>Hill, Jordan</td>\n",
              "      <td>201941</td>\n",
              "      <td>5.4</td>\n",
              "      <td>1</td>\n",
              "      <td>2</td>\n",
              "      <td>brian roberts</td>\n",
              "      <td>203148</td>\n",
              "    </tr>\n",
              "    <tr>\n",
              "      <th>15</th>\n",
              "      <td>21400859</td>\n",
              "      <td>FEB 27, 2015 - CHA @ BOS</td>\n",
              "      <td>A</td>\n",
              "      <td>L</td>\n",
              "      <td>-8</td>\n",
              "      <td>2</td>\n",
              "      <td>2</td>\n",
              "      <td>10:38</td>\n",
              "      <td>6.4</td>\n",
              "      <td>3</td>\n",
              "      <td>2.7</td>\n",
              "      <td>24.7</td>\n",
              "      <td>3</td>\n",
              "      <td>made</td>\n",
              "      <td>Young, James</td>\n",
              "      <td>203923</td>\n",
              "      <td>5.6</td>\n",
              "      <td>1</td>\n",
              "      <td>3</td>\n",
              "      <td>brian roberts</td>\n",
              "      <td>203148</td>\n",
              "    </tr>\n",
              "  </tbody>\n",
              "</table>\n",
              "</div>"
            ],
            "text/plain": [
              "     GAME_ID                     MATCHUP  ...    player_name player_id\n",
              "0   21400899    MAR 04, 2015 - CHA @ BKN  ...  brian roberts    203148\n",
              "7   21400899    MAR 04, 2015 - CHA @ BKN  ...  brian roberts    203148\n",
              "11  21400890  MAR 03, 2015 - CHA vs. LAL  ...  brian roberts    203148\n",
              "12  21400890  MAR 03, 2015 - CHA vs. LAL  ...  brian roberts    203148\n",
              "15  21400859    FEB 27, 2015 - CHA @ BOS  ...  brian roberts    203148\n",
              "\n",
              "[5 rows x 21 columns]"
            ]
          },
          "metadata": {
            "tags": []
          },
          "execution_count": 3
        }
      ]
    },
    {
      "cell_type": "code",
      "metadata": {
        "id": "uvu8P0ld3Wml",
        "colab_type": "code",
        "outputId": "2769c8f1-4b5d-4107-d0a0-6daba70f514c",
        "colab": {
          "base_uri": "https://localhost:8080/",
          "height": 485
        }
      },
      "source": [
        "# Create subset where the only types of shots are 3 pointers (threes_att is \n",
        "# short for three pointers attempted)\n",
        "\n",
        "threes_att = df[df['PTS_TYPE'] == 3]\n",
        "\n",
        "print(threes_att.shape)\n",
        "threes_att.head()"
      ],
      "execution_count": 4,
      "outputs": [
        {
          "output_type": "stream",
          "text": [
            "(33896, 21)\n"
          ],
          "name": "stdout"
        },
        {
          "output_type": "execute_result",
          "data": {
            "text/html": [
              "<div>\n",
              "<style scoped>\n",
              "    .dataframe tbody tr th:only-of-type {\n",
              "        vertical-align: middle;\n",
              "    }\n",
              "\n",
              "    .dataframe tbody tr th {\n",
              "        vertical-align: top;\n",
              "    }\n",
              "\n",
              "    .dataframe thead th {\n",
              "        text-align: right;\n",
              "    }\n",
              "</style>\n",
              "<table border=\"1\" class=\"dataframe\">\n",
              "  <thead>\n",
              "    <tr style=\"text-align: right;\">\n",
              "      <th></th>\n",
              "      <th>GAME_ID</th>\n",
              "      <th>MATCHUP</th>\n",
              "      <th>LOCATION</th>\n",
              "      <th>W</th>\n",
              "      <th>FINAL_MARGIN</th>\n",
              "      <th>SHOT_NUMBER</th>\n",
              "      <th>PERIOD</th>\n",
              "      <th>GAME_CLOCK</th>\n",
              "      <th>SHOT_CLOCK</th>\n",
              "      <th>DRIBBLES</th>\n",
              "      <th>TOUCH_TIME</th>\n",
              "      <th>SHOT_DIST</th>\n",
              "      <th>PTS_TYPE</th>\n",
              "      <th>SHOT_RESULT</th>\n",
              "      <th>CLOSEST_DEFENDER</th>\n",
              "      <th>CLOSEST_DEFENDER_PLAYER_ID</th>\n",
              "      <th>CLOSE_DEF_DIST</th>\n",
              "      <th>FGM</th>\n",
              "      <th>PTS</th>\n",
              "      <th>player_name</th>\n",
              "      <th>player_id</th>\n",
              "    </tr>\n",
              "  </thead>\n",
              "  <tbody>\n",
              "    <tr>\n",
              "      <th>1</th>\n",
              "      <td>21400899</td>\n",
              "      <td>MAR 04, 2015 - CHA @ BKN</td>\n",
              "      <td>A</td>\n",
              "      <td>W</td>\n",
              "      <td>24</td>\n",
              "      <td>2</td>\n",
              "      <td>1</td>\n",
              "      <td>0:14</td>\n",
              "      <td>3.4</td>\n",
              "      <td>0</td>\n",
              "      <td>0.8</td>\n",
              "      <td>28.2</td>\n",
              "      <td>3</td>\n",
              "      <td>missed</td>\n",
              "      <td>Bogdanovic, Bojan</td>\n",
              "      <td>202711</td>\n",
              "      <td>6.1</td>\n",
              "      <td>0</td>\n",
              "      <td>0</td>\n",
              "      <td>brian roberts</td>\n",
              "      <td>203148</td>\n",
              "    </tr>\n",
              "    <tr>\n",
              "      <th>8</th>\n",
              "      <td>21400899</td>\n",
              "      <td>MAR 04, 2015 - CHA @ BKN</td>\n",
              "      <td>A</td>\n",
              "      <td>W</td>\n",
              "      <td>24</td>\n",
              "      <td>9</td>\n",
              "      <td>4</td>\n",
              "      <td>5:14</td>\n",
              "      <td>12.4</td>\n",
              "      <td>0</td>\n",
              "      <td>0.8</td>\n",
              "      <td>24.6</td>\n",
              "      <td>3</td>\n",
              "      <td>missed</td>\n",
              "      <td>Morris, Darius</td>\n",
              "      <td>202721</td>\n",
              "      <td>7.3</td>\n",
              "      <td>0</td>\n",
              "      <td>0</td>\n",
              "      <td>brian roberts</td>\n",
              "      <td>203148</td>\n",
              "    </tr>\n",
              "    <tr>\n",
              "      <th>9</th>\n",
              "      <td>21400890</td>\n",
              "      <td>MAR 03, 2015 - CHA vs. LAL</td>\n",
              "      <td>H</td>\n",
              "      <td>W</td>\n",
              "      <td>1</td>\n",
              "      <td>1</td>\n",
              "      <td>2</td>\n",
              "      <td>11:32</td>\n",
              "      <td>17.4</td>\n",
              "      <td>0</td>\n",
              "      <td>1.1</td>\n",
              "      <td>22.4</td>\n",
              "      <td>3</td>\n",
              "      <td>missed</td>\n",
              "      <td>Ellington, Wayne</td>\n",
              "      <td>201961</td>\n",
              "      <td>19.8</td>\n",
              "      <td>0</td>\n",
              "      <td>0</td>\n",
              "      <td>brian roberts</td>\n",
              "      <td>203148</td>\n",
              "    </tr>\n",
              "    <tr>\n",
              "      <th>10</th>\n",
              "      <td>21400890</td>\n",
              "      <td>MAR 03, 2015 - CHA vs. LAL</td>\n",
              "      <td>H</td>\n",
              "      <td>W</td>\n",
              "      <td>1</td>\n",
              "      <td>2</td>\n",
              "      <td>2</td>\n",
              "      <td>6:30</td>\n",
              "      <td>16.0</td>\n",
              "      <td>8</td>\n",
              "      <td>7.5</td>\n",
              "      <td>24.5</td>\n",
              "      <td>3</td>\n",
              "      <td>missed</td>\n",
              "      <td>Lin, Jeremy</td>\n",
              "      <td>202391</td>\n",
              "      <td>4.7</td>\n",
              "      <td>0</td>\n",
              "      <td>0</td>\n",
              "      <td>brian roberts</td>\n",
              "      <td>203148</td>\n",
              "    </tr>\n",
              "    <tr>\n",
              "      <th>13</th>\n",
              "      <td>21400882</td>\n",
              "      <td>MAR 01, 2015 - CHA @ ORL</td>\n",
              "      <td>A</td>\n",
              "      <td>W</td>\n",
              "      <td>15</td>\n",
              "      <td>1</td>\n",
              "      <td>4</td>\n",
              "      <td>9:10</td>\n",
              "      <td>4.4</td>\n",
              "      <td>0</td>\n",
              "      <td>0.8</td>\n",
              "      <td>26.4</td>\n",
              "      <td>3</td>\n",
              "      <td>missed</td>\n",
              "      <td>Green, Willie</td>\n",
              "      <td>2584</td>\n",
              "      <td>4.4</td>\n",
              "      <td>0</td>\n",
              "      <td>0</td>\n",
              "      <td>brian roberts</td>\n",
              "      <td>203148</td>\n",
              "    </tr>\n",
              "  </tbody>\n",
              "</table>\n",
              "</div>"
            ],
            "text/plain": [
              "     GAME_ID                     MATCHUP  ...    player_name player_id\n",
              "1   21400899    MAR 04, 2015 - CHA @ BKN  ...  brian roberts    203148\n",
              "8   21400899    MAR 04, 2015 - CHA @ BKN  ...  brian roberts    203148\n",
              "9   21400890  MAR 03, 2015 - CHA vs. LAL  ...  brian roberts    203148\n",
              "10  21400890  MAR 03, 2015 - CHA vs. LAL  ...  brian roberts    203148\n",
              "13  21400882    MAR 01, 2015 - CHA @ ORL  ...  brian roberts    203148\n",
              "\n",
              "[5 rows x 21 columns]"
            ]
          },
          "metadata": {
            "tags": []
          },
          "execution_count": 4
        }
      ]
    },
    {
      "cell_type": "code",
      "metadata": {
        "id": "1P_3NAXg03ck",
        "colab_type": "code",
        "outputId": "0d83c44c-6f68-4371-8ac2-63fc9575aacc",
        "colab": {
          "base_uri": "https://localhost:8080/",
          "height": 34
        }
      },
      "source": [
        "# Already have a subset where the only shots taken were 3 pointers (threes_att)\n",
        "\n",
        "# Create subset where the only types of shots are 2 pointers\n",
        "\n",
        "twos_att = df[df['PTS_TYPE'] == 2]\n",
        "\n",
        "print(twos_att.shape)"
      ],
      "execution_count": 5,
      "outputs": [
        {
          "output_type": "stream",
          "text": [
            "(94173, 21)\n"
          ],
          "name": "stdout"
        }
      ]
    },
    {
      "cell_type": "markdown",
      "metadata": {
        "id": "R4gY1Ei19MoD",
        "colab_type": "text"
      },
      "source": [
        "### Running a 2 Sample T-Test (2-pointers vs. 3 pointers)\n",
        "\n",
        "1) Null Hypothesis: Shooting percentage for players shooting 2-pointers is equal to shooting percentage for players shooting 3-pointers\n",
        "\n",
        "$ H_0: \\bar{x}_{2} == \\bar{x}_{3}$\n",
        "\n",
        "\n",
        "2) Alternative Hypothesis: Shooting percentage for players shooting 2-pointers is NOT equal to shooting percentage for players shooting 3-pointers\n",
        "\n",
        "$ H_0: \\bar{x}_{2} \\neq \\bar{x}_{3}$\n",
        "\n",
        "3) Confidence Level: 95%"
      ]
    },
    {
      "cell_type": "code",
      "metadata": {
        "id": "7c-BgEp_9w_S",
        "colab_type": "code",
        "outputId": "d9a8f167-0c66-4b68-dbfb-06650c2c19ea",
        "colab": {
          "base_uri": "https://localhost:8080/",
          "height": 34
        }
      },
      "source": [
        "from scipy import stats\n",
        "\n",
        "# 2 sample T-test between 2-pointers and 3-pointers Samples\n",
        "\n",
        "stats.ttest_ind(twos_att['FGM'], threes_att['FGM'])"
      ],
      "execution_count": 6,
      "outputs": [
        {
          "output_type": "execute_result",
          "data": {
            "text/plain": [
              "Ttest_indResult(statistic=43.72932056376576, pvalue=0.0)"
            ]
          },
          "metadata": {
            "tags": []
          },
          "execution_count": 6
        }
      ]
    },
    {
      "cell_type": "markdown",
      "metadata": {
        "id": "ESNma37o-SBQ",
        "colab_type": "text"
      },
      "source": [
        "### Result\n",
        "\n",
        "Conclusion: \n",
        "\n",
        "Based on a t-stat of 43.729 and p-value of 0, I **reject** the null hypothesis that players shooting percentage is the same for 2-pointers vs. 3-pointers, and suggest the alternative that the players shooting percentage for 2-pointers an 3-pointers is different. I also conclude that shooting percentage is higher for 2-pointers because of the postive t-stat."
      ]
    },
    {
      "cell_type": "code",
      "metadata": {
        "id": "dF-eLmck9Us2",
        "colab_type": "code",
        "outputId": "5b32fb29-8ab0-4d39-b865-f0f2b66e6400",
        "colab": {
          "base_uri": "https://localhost:8080/",
          "height": 52
        }
      },
      "source": [
        "# Percentage of shots made on 3-point attempts and 2-point attemps\n",
        "\n",
        "print(threes_att['FGM'].mean())\n",
        "print(twos_att['FGM'].mean())"
      ],
      "execution_count": 7,
      "outputs": [
        {
          "output_type": "stream",
          "text": [
            "0.3515164031154118\n",
            "0.48835653531266926\n"
          ],
          "name": "stdout"
        }
      ]
    },
    {
      "cell_type": "code",
      "metadata": {
        "id": "qAgV0uWOodyV",
        "colab_type": "code",
        "outputId": "614df4a1-9b5a-4416-dd08-54c774f8af13",
        "colab": {
          "base_uri": "https://localhost:8080/",
          "height": 52
        }
      },
      "source": [
        "# Create subsets of data where one only contains shots taken by the home team, \n",
        "# and the other only contains shots taken by the away team\n",
        "\n",
        "df_home = df[df['LOCATION'] == 'H']\n",
        "df_away = df[df['LOCATION'] == 'A']\n",
        "\n",
        "print(df_home.shape)\n",
        "print(df_away.shape)"
      ],
      "execution_count": 8,
      "outputs": [
        {
          "output_type": "stream",
          "text": [
            "(63934, 21)\n",
            "(64135, 21)\n"
          ],
          "name": "stdout"
        }
      ]
    },
    {
      "cell_type": "markdown",
      "metadata": {
        "id": "7944BJG14G3a",
        "colab_type": "text"
      },
      "source": [
        "### Running a 2 Sample T-Test\n",
        "\n",
        "1) Null Hypothesis: Shooting percentage for players who are playing at Home is equal to shooting percentage for players who are playing Away\n",
        "\n",
        "$ H_0: \\bar{x}_{h} == \\bar{x}_{a}$\n",
        "\n",
        "\n",
        "2) Alternative Hypothesis: Shooting percentage for players who are playing Away is NOT equal to shooting percentage for players who are playing at Home\n",
        "\n",
        "$ H_0: \\bar{x}_{h} \\neq \\bar{x}_{a}$\n",
        "\n",
        "3) Confidence Level: 95%"
      ]
    },
    {
      "cell_type": "code",
      "metadata": {
        "id": "AvGkRDFuUMy1",
        "colab_type": "code",
        "outputId": "471d92ae-c2fe-4024-949b-8b662f875d04",
        "colab": {
          "base_uri": "https://localhost:8080/",
          "height": 34
        }
      },
      "source": [
        "# 2 sample T-test between Home vs. Away Samples\n",
        "\n",
        "stats.ttest_ind(df_home['FGM'], df_away['FGM'])"
      ],
      "execution_count": 9,
      "outputs": [
        {
          "output_type": "execute_result",
          "data": {
            "text/plain": [
              "Ttest_indResult(statistic=2.896455283597539, pvalue=0.003774682826765074)"
            ]
          },
          "metadata": {
            "tags": []
          },
          "execution_count": 9
        }
      ]
    },
    {
      "cell_type": "markdown",
      "metadata": {
        "id": "saHq3Pu05Osv",
        "colab_type": "text"
      },
      "source": [
        "### Result\n",
        "\n",
        "Conclusion: \n",
        "\n",
        "Based on a t-stat of 2.896 and p-value of 0.0038, I **reject** the null hypothesis that players shooting percentage is the same at home vs. away, and suggest the alternative that the players shooting percentage at home games and away games is different. I also conclude that shooting percentage is higher for players at home because of the postive t-stat."
      ]
    },
    {
      "cell_type": "code",
      "metadata": {
        "id": "00MTnJB6ATlc",
        "colab_type": "code",
        "outputId": "55b1bea3-a83a-44e4-bbc8-cde55cb64f50",
        "colab": {
          "base_uri": "https://localhost:8080/",
          "height": 52
        }
      },
      "source": [
        "# Percentage of shots made at home vs. away\n",
        "\n",
        "print(df_home['FGM'].mean())\n",
        "print(df_away['FGM'].mean())"
      ],
      "execution_count": 10,
      "outputs": [
        {
          "output_type": "stream",
          "text": [
            "0.45617355397753934\n",
            "0.4481172526701489\n"
          ],
          "name": "stdout"
        }
      ]
    },
    {
      "cell_type": "code",
      "metadata": {
        "id": "OtqQSjcBpv2_",
        "colab_type": "code",
        "outputId": "d3b20c2a-07b2-41c1-9d09-d48ff8010014",
        "colab": {
          "base_uri": "https://localhost:8080/",
          "height": 52
        }
      },
      "source": [
        "# Create subsets of data where one only contains shots taken during \n",
        "# regulation (Periods 1-4), and the other only contains shots taken \n",
        "# during OT (Periods 5+)\n",
        "\n",
        "df_regulation = df[df['PERIOD'] <= 4]\n",
        "df_OT = df[df['PERIOD'] > 4]\n",
        "\n",
        "print(df_regulation.shape)\n",
        "print(df_OT.shape)"
      ],
      "execution_count": 11,
      "outputs": [
        {
          "output_type": "stream",
          "text": [
            "(126946, 21)\n",
            "(1123, 21)\n"
          ],
          "name": "stdout"
        }
      ]
    },
    {
      "cell_type": "markdown",
      "metadata": {
        "id": "yk8S1kjnAzrP",
        "colab_type": "text"
      },
      "source": [
        "### Running a 2 Sample T-Test (Regulation vs. OT)\n",
        "\n",
        "1) Null Hypothesis: Shooting percentage for players in Regulation is equal to shooting percentage for players in Overtime (OT)\n",
        "\n",
        "$ H_0: \\bar{x}_{r} == \\bar{x}_{ot}$\n",
        "\n",
        "\n",
        "2) Alternative Hypothesis: Shooting percentage for players in Regulation is NOT equal to shooting percentage for players in Overtime (OT)\n",
        "\n",
        "$ H_0: \\bar{x}_{r} \\neq \\bar{x}_{ot}$\n",
        "\n",
        "3) Confidence Level: 95%"
      ]
    },
    {
      "cell_type": "code",
      "metadata": {
        "id": "4jRlYLhA22dn",
        "colab_type": "code",
        "outputId": "fa1011ab-b9cc-4927-a4ad-359d3e6c7987",
        "colab": {
          "base_uri": "https://localhost:8080/",
          "height": 34
        }
      },
      "source": [
        "# 2 sample T-test between Regulation vs. Overtime Samples\n",
        "\n",
        "stats.ttest_ind(df_regulation['FGM'], df_OT['FGM'])"
      ],
      "execution_count": 12,
      "outputs": [
        {
          "output_type": "execute_result",
          "data": {
            "text/plain": [
              "Ttest_indResult(statistic=3.779210961122991, pvalue=0.00015739733343747304)"
            ]
          },
          "metadata": {
            "tags": []
          },
          "execution_count": 12
        }
      ]
    },
    {
      "cell_type": "markdown",
      "metadata": {
        "id": "vv0YOZcLA0Qn",
        "colab_type": "text"
      },
      "source": [
        "### Result\n",
        "\n",
        "Conclusion: \n",
        "\n",
        "Based on a t-stat of 3.779 and p-value of 0.00016, I **reject** the null hypothesis that players shooting percentage is the same in regulation vs. overtime, and suggest the alternative that the players shooting percentage during regulation and overtime is different. I also conclude that shooting percentage is higher for players during regulation because of the postive t-stat."
      ]
    },
    {
      "cell_type": "code",
      "metadata": {
        "id": "u3E3Y26bBfz1",
        "colab_type": "code",
        "outputId": "92744e76-3e97-4fd6-b9c4-9a1d41a194c8",
        "colab": {
          "base_uri": "https://localhost:8080/",
          "height": 52
        }
      },
      "source": [
        "# Percentage of shots made during regulation vs. OT\n",
        "\n",
        "print(df_regulation['FGM'].mean())\n",
        "print(df_OT['FGM'].mean())"
      ],
      "execution_count": 13,
      "outputs": [
        {
          "output_type": "stream",
          "text": [
            "0.45263340317930456\n",
            "0.396260017809439\n"
          ],
          "name": "stdout"
        }
      ]
    },
    {
      "cell_type": "code",
      "metadata": {
        "id": "EKht0RJIplZY",
        "colab_type": "code",
        "outputId": "36109249-e2b5-4258-b24a-30552a6b47b8",
        "colab": {
          "base_uri": "https://localhost:8080/",
          "height": 70
        }
      },
      "source": [
        "# percentage of made vs. missed shots in general during that season\n",
        "\n",
        "df['SHOT_RESULT'].value_counts(normalize=True)*100"
      ],
      "execution_count": 14,
      "outputs": [
        {
          "output_type": "execute_result",
          "data": {
            "text/plain": [
              "missed    54.786092\n",
              "made      45.213908\n",
              "Name: SHOT_RESULT, dtype: float64"
            ]
          },
          "metadata": {
            "tags": []
          },
          "execution_count": 14
        }
      ]
    },
    {
      "cell_type": "code",
      "metadata": {
        "id": "FyeDhMvm0FYR",
        "colab_type": "code",
        "outputId": "830ab6cd-f2ae-4ccd-e65b-f9fd132c0462",
        "colab": {
          "base_uri": "https://localhost:8080/",
          "height": 485
        }
      },
      "source": [
        "# Create copy of the dataframe so that we can manipulate some of the \n",
        "# 'Shot Clock' data because it includes NaN values\n",
        "\n",
        "df_test = df.copy()\n",
        "\n",
        "print(df_test.shape)\n",
        "df_test.head()"
      ],
      "execution_count": 15,
      "outputs": [
        {
          "output_type": "stream",
          "text": [
            "(128069, 21)\n"
          ],
          "name": "stdout"
        },
        {
          "output_type": "execute_result",
          "data": {
            "text/html": [
              "<div>\n",
              "<style scoped>\n",
              "    .dataframe tbody tr th:only-of-type {\n",
              "        vertical-align: middle;\n",
              "    }\n",
              "\n",
              "    .dataframe tbody tr th {\n",
              "        vertical-align: top;\n",
              "    }\n",
              "\n",
              "    .dataframe thead th {\n",
              "        text-align: right;\n",
              "    }\n",
              "</style>\n",
              "<table border=\"1\" class=\"dataframe\">\n",
              "  <thead>\n",
              "    <tr style=\"text-align: right;\">\n",
              "      <th></th>\n",
              "      <th>GAME_ID</th>\n",
              "      <th>MATCHUP</th>\n",
              "      <th>LOCATION</th>\n",
              "      <th>W</th>\n",
              "      <th>FINAL_MARGIN</th>\n",
              "      <th>SHOT_NUMBER</th>\n",
              "      <th>PERIOD</th>\n",
              "      <th>GAME_CLOCK</th>\n",
              "      <th>SHOT_CLOCK</th>\n",
              "      <th>DRIBBLES</th>\n",
              "      <th>TOUCH_TIME</th>\n",
              "      <th>SHOT_DIST</th>\n",
              "      <th>PTS_TYPE</th>\n",
              "      <th>SHOT_RESULT</th>\n",
              "      <th>CLOSEST_DEFENDER</th>\n",
              "      <th>CLOSEST_DEFENDER_PLAYER_ID</th>\n",
              "      <th>CLOSE_DEF_DIST</th>\n",
              "      <th>FGM</th>\n",
              "      <th>PTS</th>\n",
              "      <th>player_name</th>\n",
              "      <th>player_id</th>\n",
              "    </tr>\n",
              "  </thead>\n",
              "  <tbody>\n",
              "    <tr>\n",
              "      <th>0</th>\n",
              "      <td>21400899</td>\n",
              "      <td>MAR 04, 2015 - CHA @ BKN</td>\n",
              "      <td>A</td>\n",
              "      <td>W</td>\n",
              "      <td>24</td>\n",
              "      <td>1</td>\n",
              "      <td>1</td>\n",
              "      <td>1:09</td>\n",
              "      <td>10.8</td>\n",
              "      <td>2</td>\n",
              "      <td>1.9</td>\n",
              "      <td>7.7</td>\n",
              "      <td>2</td>\n",
              "      <td>made</td>\n",
              "      <td>Anderson, Alan</td>\n",
              "      <td>101187</td>\n",
              "      <td>1.3</td>\n",
              "      <td>1</td>\n",
              "      <td>2</td>\n",
              "      <td>brian roberts</td>\n",
              "      <td>203148</td>\n",
              "    </tr>\n",
              "    <tr>\n",
              "      <th>1</th>\n",
              "      <td>21400899</td>\n",
              "      <td>MAR 04, 2015 - CHA @ BKN</td>\n",
              "      <td>A</td>\n",
              "      <td>W</td>\n",
              "      <td>24</td>\n",
              "      <td>2</td>\n",
              "      <td>1</td>\n",
              "      <td>0:14</td>\n",
              "      <td>3.4</td>\n",
              "      <td>0</td>\n",
              "      <td>0.8</td>\n",
              "      <td>28.2</td>\n",
              "      <td>3</td>\n",
              "      <td>missed</td>\n",
              "      <td>Bogdanovic, Bojan</td>\n",
              "      <td>202711</td>\n",
              "      <td>6.1</td>\n",
              "      <td>0</td>\n",
              "      <td>0</td>\n",
              "      <td>brian roberts</td>\n",
              "      <td>203148</td>\n",
              "    </tr>\n",
              "    <tr>\n",
              "      <th>2</th>\n",
              "      <td>21400899</td>\n",
              "      <td>MAR 04, 2015 - CHA @ BKN</td>\n",
              "      <td>A</td>\n",
              "      <td>W</td>\n",
              "      <td>24</td>\n",
              "      <td>3</td>\n",
              "      <td>1</td>\n",
              "      <td>0:00</td>\n",
              "      <td>NaN</td>\n",
              "      <td>3</td>\n",
              "      <td>2.7</td>\n",
              "      <td>10.1</td>\n",
              "      <td>2</td>\n",
              "      <td>missed</td>\n",
              "      <td>Bogdanovic, Bojan</td>\n",
              "      <td>202711</td>\n",
              "      <td>0.9</td>\n",
              "      <td>0</td>\n",
              "      <td>0</td>\n",
              "      <td>brian roberts</td>\n",
              "      <td>203148</td>\n",
              "    </tr>\n",
              "    <tr>\n",
              "      <th>3</th>\n",
              "      <td>21400899</td>\n",
              "      <td>MAR 04, 2015 - CHA @ BKN</td>\n",
              "      <td>A</td>\n",
              "      <td>W</td>\n",
              "      <td>24</td>\n",
              "      <td>4</td>\n",
              "      <td>2</td>\n",
              "      <td>11:47</td>\n",
              "      <td>10.3</td>\n",
              "      <td>2</td>\n",
              "      <td>1.9</td>\n",
              "      <td>17.2</td>\n",
              "      <td>2</td>\n",
              "      <td>missed</td>\n",
              "      <td>Brown, Markel</td>\n",
              "      <td>203900</td>\n",
              "      <td>3.4</td>\n",
              "      <td>0</td>\n",
              "      <td>0</td>\n",
              "      <td>brian roberts</td>\n",
              "      <td>203148</td>\n",
              "    </tr>\n",
              "    <tr>\n",
              "      <th>4</th>\n",
              "      <td>21400899</td>\n",
              "      <td>MAR 04, 2015 - CHA @ BKN</td>\n",
              "      <td>A</td>\n",
              "      <td>W</td>\n",
              "      <td>24</td>\n",
              "      <td>5</td>\n",
              "      <td>2</td>\n",
              "      <td>10:34</td>\n",
              "      <td>10.9</td>\n",
              "      <td>2</td>\n",
              "      <td>2.7</td>\n",
              "      <td>3.7</td>\n",
              "      <td>2</td>\n",
              "      <td>missed</td>\n",
              "      <td>Young, Thaddeus</td>\n",
              "      <td>201152</td>\n",
              "      <td>1.1</td>\n",
              "      <td>0</td>\n",
              "      <td>0</td>\n",
              "      <td>brian roberts</td>\n",
              "      <td>203148</td>\n",
              "    </tr>\n",
              "  </tbody>\n",
              "</table>\n",
              "</div>"
            ],
            "text/plain": [
              "    GAME_ID                   MATCHUP LOCATION  ... PTS    player_name  player_id\n",
              "0  21400899  MAR 04, 2015 - CHA @ BKN        A  ...   2  brian roberts     203148\n",
              "1  21400899  MAR 04, 2015 - CHA @ BKN        A  ...   0  brian roberts     203148\n",
              "2  21400899  MAR 04, 2015 - CHA @ BKN        A  ...   0  brian roberts     203148\n",
              "3  21400899  MAR 04, 2015 - CHA @ BKN        A  ...   0  brian roberts     203148\n",
              "4  21400899  MAR 04, 2015 - CHA @ BKN        A  ...   0  brian roberts     203148\n",
              "\n",
              "[5 rows x 21 columns]"
            ]
          },
          "metadata": {
            "tags": []
          },
          "execution_count": 15
        }
      ]
    },
    {
      "cell_type": "code",
      "metadata": {
        "id": "3IDebtZmvOon",
        "colab_type": "code",
        "outputId": "e7bddcf4-b6db-4eef-bf78-69e5f384efef",
        "colab": {
          "base_uri": "https://localhost:8080/",
          "height": 230
        }
      },
      "source": [
        "# Analyze different values for Shot Clock column\n",
        "# Only column with NaN values\n",
        "\n",
        "df['SHOT_CLOCK'].value_counts(dropna=False)"
      ],
      "execution_count": 16,
      "outputs": [
        {
          "output_type": "execute_result",
          "data": {
            "text/plain": [
              "NaN     5567\n",
              "24.0    3857\n",
              "11.0    1496\n",
              "12.0    1495\n",
              "14.0    1450\n",
              "        ... \n",
              "0.4       88\n",
              "0.0       78\n",
              "0.3       71\n",
              "0.1       67\n",
              "0.2       64\n",
              "Name: SHOT_CLOCK, Length: 242, dtype: int64"
            ]
          },
          "metadata": {
            "tags": []
          },
          "execution_count": 16
        }
      ]
    },
    {
      "cell_type": "code",
      "metadata": {
        "id": "741ctNASwbET",
        "colab_type": "code",
        "outputId": "2a248e0d-4a70-48aa-af72-ca95bf754310",
        "colab": {
          "base_uri": "https://localhost:8080/",
          "height": 34
        }
      },
      "source": [
        "# Drop the NaN values in the datafram (only in shot clock column)\n",
        "# There are NaN values here because if there is less than 24 seconds on the \n",
        "# game clock, the shot clock gets turned off and no value is recorded in \n",
        "# 'Shot Clock' for a shot taken in that time\n",
        "\n",
        "df_test = df_test.dropna()\n",
        "\n",
        "print(df_test.shape)"
      ],
      "execution_count": 17,
      "outputs": [
        {
          "output_type": "stream",
          "text": [
            "(122502, 21)\n"
          ],
          "name": "stdout"
        }
      ]
    },
    {
      "cell_type": "code",
      "metadata": {
        "id": "UnVtTzRdqsFZ",
        "colab_type": "code",
        "outputId": "527437be-c717-48db-cb17-bc52012ea577",
        "colab": {
          "base_uri": "https://localhost:8080/",
          "height": 34
        }
      },
      "source": [
        "# Of all the shots taken this year, find the average time on the Shot Clock \n",
        "# at the time those shots were taken\n",
        "\n",
        "df_test['SHOT_CLOCK'].mean()"
      ],
      "execution_count": 18,
      "outputs": [
        {
          "output_type": "execute_result",
          "data": {
            "text/plain": [
              "12.453343618879783"
            ]
          },
          "metadata": {
            "tags": []
          },
          "execution_count": 18
        }
      ]
    },
    {
      "cell_type": "code",
      "metadata": {
        "id": "oefxv9VBzOgd",
        "colab_type": "code",
        "outputId": "2548a279-ed20-4f57-f5e7-7febf3bd2015",
        "colab": {
          "base_uri": "https://localhost:8080/",
          "height": 52
        }
      },
      "source": [
        "# Create a subset where the only shots taken were ones where the Shot Clock \n",
        "# was greater than or equal to 12 seconds (first half of the possession)\n",
        "\n",
        "df_first12 = df_test[df_test['SHOT_CLOCK'] >= 12.0]\n",
        "df_last12 = df_test[df_test['SHOT_CLOCK'] < 12.0]\n",
        "\n",
        "print(df_first12.shape)\n",
        "print(df_last12.shape)"
      ],
      "execution_count": 19,
      "outputs": [
        {
          "output_type": "stream",
          "text": [
            "(64455, 21)\n",
            "(58047, 21)\n"
          ],
          "name": "stdout"
        }
      ]
    },
    {
      "cell_type": "markdown",
      "metadata": {
        "id": "NOn8W0RjCHvj",
        "colab_type": "text"
      },
      "source": [
        "### Running a 2 Sample T-Test (First 12 seconds of possesion vs. last 12 seconds of possession)\n",
        "\n",
        "1) Null Hypothesis: Shooting percentage for players during the first half of the possession is equal to shooting percentage for players during the second half of the possession\n",
        "\n",
        "$ H_0: \\bar{x}_{1st} == \\bar{x}_{2nd}$\n",
        "\n",
        "\n",
        "2) Alternative Hypothesis:  Shooting percentage for players during the first half of the possession is NOT equal to shooting percentage for players during the second half of the possession\n",
        "\n",
        "$ H_0: \\bar{x}_{1st} \\neq \\bar{x}_{2nd}$\n",
        "\n",
        "3) Confidence Level: 95%"
      ]
    },
    {
      "cell_type": "code",
      "metadata": {
        "id": "KW9DB6gUz1Br",
        "colab_type": "code",
        "outputId": "ce6f99ac-deb6-4e60-cbdf-49320452af2c",
        "colab": {
          "base_uri": "https://localhost:8080/",
          "height": 34
        }
      },
      "source": [
        "# 2 sample T-test between Shot clock >= 12 and Shot Clock < 12 Samples\n",
        "\n",
        "stats.ttest_ind(df_first12['FGM'], df_last12['FGM'])"
      ],
      "execution_count": 20,
      "outputs": [
        {
          "output_type": "execute_result",
          "data": {
            "text/plain": [
              "Ttest_indResult(statistic=22.10699161410653, pvalue=4.410850707455259e-108)"
            ]
          },
          "metadata": {
            "tags": []
          },
          "execution_count": 20
        }
      ]
    },
    {
      "cell_type": "markdown",
      "metadata": {
        "id": "OVF11FTLCITt",
        "colab_type": "text"
      },
      "source": [
        "### Result\n",
        "\n",
        "Conclusion: \n",
        "\n",
        "Based on a t-stat of 22.107 and p-value of ~ 0, I **reject** the null hypothesis that players shooting percentage is the same in the first half of the possesion vs. the second half of the possession, and suggest the alternative that the players shooting percentage during the first and second havles of the possession is different. I also conclude that shooting percentage is higher for players during the first 12 seconds of the shot clock because of the postive t-stat."
      ]
    },
    {
      "cell_type": "code",
      "metadata": {
        "id": "rmOXRjEVDjFj",
        "colab_type": "code",
        "outputId": "bfc1302c-a855-429f-d09f-ba3b8c06160b",
        "colab": {
          "base_uri": "https://localhost:8080/",
          "height": 52
        }
      },
      "source": [
        "# Percentage of shots made during first half vs. second half of possession\n",
        "\n",
        "print(df_first12['FGM'].mean())\n",
        "print(df_last12['FGM'].mean())"
      ],
      "execution_count": 21,
      "outputs": [
        {
          "output_type": "stream",
          "text": [
            "0.48595143898844156\n",
            "0.4230709597395214\n"
          ],
          "name": "stdout"
        }
      ]
    },
    {
      "cell_type": "code",
      "metadata": {
        "id": "P6vwUNMHt0D0",
        "colab_type": "code",
        "outputId": "23e81712-5222-4e56-f9b0-c62362a1bbe8",
        "colab": {
          "base_uri": "https://localhost:8080/",
          "height": 52
        }
      },
      "source": [
        "# Create a subset where the only shots taken were ones where the Shot Clock \n",
        "# was greater than or equal to 20 seconds\n",
        "\n",
        "df_first4 = df_test[df_test['SHOT_CLOCK'] >= 20.0]\n",
        "\n",
        "# Print shape and FG %\n",
        "\n",
        "print(df_first4.shape)\n",
        "print(df_first4['FGM'].mean())"
      ],
      "execution_count": 22,
      "outputs": [
        {
          "output_type": "stream",
          "text": [
            "(14131, 21)\n",
            "0.5770292265232467\n"
          ],
          "name": "stdout"
        }
      ]
    },
    {
      "cell_type": "code",
      "metadata": {
        "id": "T1w0QNVR_aBH",
        "colab_type": "code",
        "outputId": "a2e11b3e-878a-48c6-9d20-93e386e85053",
        "colab": {
          "base_uri": "https://localhost:8080/",
          "height": 52
        }
      },
      "source": [
        "# Create subset of dataframe where the only shots taken were the ones where the \n",
        "# shot clock was less than or equal to 1 second\n",
        "\n",
        "last_second_shot_subset = df[df['SHOT_CLOCK'] <= 1.0]\n",
        "\n",
        "# Print shape and FG %\n",
        "\n",
        "print(last_second_shot_subset.shape)\n",
        "print(last_second_shot_subset['FGM'].mean())"
      ],
      "execution_count": 23,
      "outputs": [
        {
          "output_type": "stream",
          "text": [
            "(1328, 21)\n",
            "0.276355421686747\n"
          ],
          "name": "stdout"
        }
      ]
    },
    {
      "cell_type": "code",
      "metadata": {
        "id": "3SoWbvYG0tAR",
        "colab_type": "code",
        "outputId": "95354ab8-67f2-4a3d-a4a6-ed7a9a373425",
        "colab": {
          "base_uri": "https://localhost:8080/",
          "height": 52
        }
      },
      "source": [
        "# Create subset of dataframe where the only shots taken were the ones where the \n",
        "# shot clock was less than or equal to 3 seconds\n",
        "\n",
        "last_3_seconds_subset = df[df['SHOT_CLOCK'] <= 3.0]\n",
        "\n",
        "# Print shape and FG %\n",
        "\n",
        "print(last_3_seconds_subset.shape)\n",
        "print(last_3_seconds_subset['FGM'].mean())"
      ],
      "execution_count": 24,
      "outputs": [
        {
          "output_type": "stream",
          "text": [
            "(6431, 21)\n",
            "0.33929404447208833\n"
          ],
          "name": "stdout"
        }
      ]
    },
    {
      "cell_type": "code",
      "metadata": {
        "id": "tmfYpYnx1ISk",
        "colab_type": "code",
        "outputId": "43eea194-1366-4cb4-d0e1-38ac05d611bb",
        "colab": {
          "base_uri": "https://localhost:8080/",
          "height": 52
        }
      },
      "source": [
        "# Create subset of dataframe where the only shots taken were the ones where the \n",
        "# shot clock was less than or equal to 10 seconds\n",
        "\n",
        "last_10_seconds_subset = df[df['SHOT_CLOCK'] <= 10.0]\n",
        "\n",
        "# Print shape and FG %\n",
        "\n",
        "print(last_10_seconds_subset.shape)\n",
        "print(last_10_seconds_subset['FGM'].mean())"
      ],
      "execution_count": 25,
      "outputs": [
        {
          "output_type": "stream",
          "text": [
            "(43937, 21)\n",
            "0.41573161572251177\n"
          ],
          "name": "stdout"
        }
      ]
    },
    {
      "cell_type": "code",
      "metadata": {
        "id": "tOpppXOdYhzD",
        "colab_type": "code",
        "outputId": "70d3569e-ee6f-4342-d72f-204050a0ecf6",
        "colab": {
          "base_uri": "https://localhost:8080/",
          "height": 766
        }
      },
      "source": [
        "import numpy as np\n",
        "import matplotlib.ticker as ticker\n",
        "import seaborn as sns\n",
        "\n",
        "\n",
        "# Set Style\n",
        "plt.style.use('seaborn-muted')\n",
        "\n",
        "# Create my figure and axes variables\n",
        "fig, ax = plt.subplots(nrows=2, ncols=2, figsize=(15,10))\n",
        "\n",
        "# Set background color for the figure\n",
        "fig.set_facecolor('#fdf6e3')\n",
        "\n",
        "ax1, ax2, ax3, ax4 = ax.flatten()\n",
        "\n",
        "# Set title for the entire figure\n",
        "fig.suptitle('Shooting Percentage Comparisons', y=1.05, fontsize=24, \n",
        "             fontweight='extra bold')\n",
        "\n",
        "\n",
        "# --------------- Graph #1 -------------------\n",
        "\n",
        "# define variables to use in AX1\n",
        "ax1_height = [df['FGM'].mean(), twos_att['FGM'].mean(), \n",
        "              threes_att['FGM'].mean()]\n",
        "ax1_bars = ('Overall', '2-pt', '3-pt')\n",
        "patterns = ['--', '//', '\\\\']\n",
        "y_labels = ['0%', 10, 20, 30, 40, 50, '60%']\n",
        "\n",
        "# For loop to create my 3 bars for plot 1\n",
        "for i in range(len(ax1_bars)):\n",
        "  ax1.bar(i, ax1_height[i], hatch=patterns[i], width=.6)\n",
        "\n",
        "# Set title\n",
        "ax1.set_title('Shot Type', x=.5, y=1.02, fontsize=16, \n",
        "              fontweight='bold')\n",
        "\n",
        "# Axis Facecolor\n",
        "ax1.set_facecolor('#eaeaf2')\n",
        "\n",
        "# Set y limits\n",
        "ax1.set_ylim(0, .6)\n",
        "\n",
        "# Adjust tick labels\n",
        "ax1.set_xticklabels(['', 'Overall', '', '2-Pointers', '', '3-Pointers', ''], \n",
        "                    size=12)\n",
        "\n",
        "ax1.set_yticklabels(y_labels)\n",
        "\n",
        "\n",
        "# --------------- Graph #2 -------------------\n",
        "\n",
        "# define variables to use in AX2\n",
        "ax2_height = [df['FGM'].mean(), df_home['FGM'].mean(), df_away['FGM'].mean()]\n",
        "ax2_bars = ('Overall', 'Home', 'Away')\n",
        "patterns = ['--', '//', '\\\\']\n",
        "y_labels = ['0%', 10, 20, 30, 40, 50, '60%']\n",
        "\n",
        "# For loop to create my bars for plot 2\n",
        "for i in range(len(ax2_bars)):\n",
        "  ax2.bar(i, ax2_height[i], hatch=patterns[i], width=.6)\n",
        "\n",
        "# Set title\n",
        "ax2.set_title('Home vs. Away', x=.5, y=1.02, fontsize=16, \n",
        "              fontweight='bold')\n",
        "\n",
        "# Axis Facecolor\n",
        "ax2.set_facecolor('#eaeaf2')\n",
        "\n",
        "# Set y limits\n",
        "ax2.set_ylim(0, .6)\n",
        "\n",
        "# Adjust tick labels\n",
        "ax2.set_xticklabels(['', 'Overall', '', 'Home', '', 'Away', ''], size=12)\n",
        "ax2.set_yticklabels(y_labels)\n",
        "\n",
        "\n",
        "# --------------- Graph #3 -------------------\n",
        "\n",
        "# define variables to use in AX3\n",
        "ax3_height = [df['FGM'].mean(), df_regulation['FGM'].mean(), \n",
        "              df_OT['FGM'].mean()]\n",
        "ax3_bars = ('Overall', 'Regulation', 'Overtime')\n",
        "patterns = ['--', '//', '\\\\']\n",
        "y_labels = ['0%', 10, 20, 30, 40, 50, '60%']\n",
        "\n",
        "# foor loop to create bars for plot 3\n",
        "for i in range(len(ax3_bars)):\n",
        "  ax3.bar(i, ax3_height[i], hatch=patterns[i], width=.6)\n",
        "\n",
        "# Set title\n",
        "ax3.set_title('Regulation vs. OT', x=.5, y=1.02, fontsize=16, \n",
        "              fontweight='bold')\n",
        "\n",
        "# Axis Facecolor\n",
        "ax3.set_facecolor('#eaeaf2')\n",
        "\n",
        "# Set y limits\n",
        "ax3.set_ylim(0, .6)\n",
        "\n",
        "# Adjust tick labels\n",
        "ax3.set_xticklabels(['', 'Overall', '', 'Regulation', '', 'Overtime', ''], \n",
        "                    size=12)\n",
        "\n",
        "ax3.set_yticklabels(y_labels)\n",
        "\n",
        "\n",
        "# --------------- Graph #4 -------------------\n",
        "\n",
        "# define variables to use in AX4\n",
        "ax4_height = [df['FGM'].mean(), df_first4['FGM'].mean(), \n",
        "              df_first12['FGM'].mean(), df_last12['FGM'].mean(), \n",
        "              last_3_seconds_subset['FGM'].mean(), \n",
        "              last_second_shot_subset['FGM'].mean()]\n",
        "ax4_bars = ('Overall', 'First 4 seconds', 'Early Possession', \n",
        "            'Late Possession', 'Last 3 seconds', 'Last 1 second')\n",
        "patterns = ['--', '//', '//', '\\\\', '\\\\', '\\\\']\n",
        "y_labels = ['0%', 10, 20, 30, 40, 50, '60%']\n",
        "\n",
        "# for loop to create bars in plot 4\n",
        "for i in range(len(ax4_bars)):\n",
        "  ax4.bar(i, ax4_height[i], hatch=patterns[i], width=.6)\n",
        "\n",
        "# Set title\n",
        "ax4.set_title('Shot Clock', x=.5, y=1.02, fontsize=16, \n",
        "              fontweight='bold')\n",
        "\n",
        "# Axis Facecolor\n",
        "ax4.set_facecolor('#eaeaf2')\n",
        "\n",
        "# Set y limits\n",
        "ax4.set_ylim(0, .6)\n",
        "\n",
        "# Set ticks on x axis\n",
        "ax4.xaxis.set_major_locator(ticker.MaxNLocator(7))\n",
        "\n",
        "# Adjust tick labels\n",
        "ax4.set_xticklabels(['', 'Overall', '$\\geq$ 20 \\n Shot \\n Clock', \n",
        "                     '$\\geq$ 12 \\n Shot \\n Clock', '$<$ 12 \\n Shot \\n Clock', \n",
        "                     '$\\leq$ 3 \\n Shot \\n Clock', '$\\leq$ 1 \\n Shot \\n Clock'], \n",
        "                    size=12)\n",
        "\n",
        "ax4.set_yticklabels(y_labels)\n",
        "\n",
        "# -----------------------------------------------------------------\n",
        "\n",
        "# Show the graph, squelch the return output\n",
        "plt.show()"
      ],
      "execution_count": 26,
      "outputs": [
        {
          "output_type": "display_data",
          "data": {
            "image/png": "[encoded data removed]",
            "text/plain": [
              "<Figure size 1080x720 with 4 Axes>"
            ]
          },
          "metadata": {
            "tags": []
          }
        }
      ]
    },
    {
      "cell_type": "code",
      "metadata": {
        "id": "Xz8cvOKuesMM",
        "colab_type": "code",
        "outputId": "3130b088-3556-4366-d71a-c863d594a492",
        "colab": {
          "base_uri": "https://localhost:8080/",
          "height": 34
        }
      },
      "source": [
        "months = []\n",
        "for month in df['MATCHUP']:\n",
        "  months.append(month[:3])\n",
        "set(months)"
      ],
      "execution_count": 27,
      "outputs": [
        {
          "output_type": "execute_result",
          "data": {
            "text/plain": [
              "{'DEC', 'FEB', 'JAN', 'MAR', 'NOV', 'OCT'}"
            ]
          },
          "metadata": {
            "tags": []
          },
          "execution_count": 27
        }
      ]
    },
    {
      "cell_type": "code",
      "metadata": {
        "id": "V0xw7c2cfGs0",
        "colab_type": "code",
        "outputId": "80833072-7084-4f03-cf53-57f29b7a7287",
        "colab": {
          "base_uri": "https://localhost:8080/",
          "height": 467
        }
      },
      "source": [
        "# create new column on the dataframe with the month that each shot was taken\n",
        "\n",
        "df['MONTH'] = months\n",
        "\n",
        "df.head()"
      ],
      "execution_count": 28,
      "outputs": [
        {
          "output_type": "execute_result",
          "data": {
            "text/html": [
              "<div>\n",
              "<style scoped>\n",
              "    .dataframe tbody tr th:only-of-type {\n",
              "        vertical-align: middle;\n",
              "    }\n",
              "\n",
              "    .dataframe tbody tr th {\n",
              "        vertical-align: top;\n",
              "    }\n",
              "\n",
              "    .dataframe thead th {\n",
              "        text-align: right;\n",
              "    }\n",
              "</style>\n",
              "<table border=\"1\" class=\"dataframe\">\n",
              "  <thead>\n",
              "    <tr style=\"text-align: right;\">\n",
              "      <th></th>\n",
              "      <th>GAME_ID</th>\n",
              "      <th>MATCHUP</th>\n",
              "      <th>LOCATION</th>\n",
              "      <th>W</th>\n",
              "      <th>FINAL_MARGIN</th>\n",
              "      <th>SHOT_NUMBER</th>\n",
              "      <th>PERIOD</th>\n",
              "      <th>GAME_CLOCK</th>\n",
              "      <th>SHOT_CLOCK</th>\n",
              "      <th>DRIBBLES</th>\n",
              "      <th>TOUCH_TIME</th>\n",
              "      <th>SHOT_DIST</th>\n",
              "      <th>PTS_TYPE</th>\n",
              "      <th>SHOT_RESULT</th>\n",
              "      <th>CLOSEST_DEFENDER</th>\n",
              "      <th>CLOSEST_DEFENDER_PLAYER_ID</th>\n",
              "      <th>CLOSE_DEF_DIST</th>\n",
              "      <th>FGM</th>\n",
              "      <th>PTS</th>\n",
              "      <th>player_name</th>\n",
              "      <th>player_id</th>\n",
              "      <th>MONTH</th>\n",
              "    </tr>\n",
              "  </thead>\n",
              "  <tbody>\n",
              "    <tr>\n",
              "      <th>0</th>\n",
              "      <td>21400899</td>\n",
              "      <td>MAR 04, 2015 - CHA @ BKN</td>\n",
              "      <td>A</td>\n",
              "      <td>W</td>\n",
              "      <td>24</td>\n",
              "      <td>1</td>\n",
              "      <td>1</td>\n",
              "      <td>1:09</td>\n",
              "      <td>10.8</td>\n",
              "      <td>2</td>\n",
              "      <td>1.9</td>\n",
              "      <td>7.7</td>\n",
              "      <td>2</td>\n",
              "      <td>made</td>\n",
              "      <td>Anderson, Alan</td>\n",
              "      <td>101187</td>\n",
              "      <td>1.3</td>\n",
              "      <td>1</td>\n",
              "      <td>2</td>\n",
              "      <td>brian roberts</td>\n",
              "      <td>203148</td>\n",
              "      <td>MAR</td>\n",
              "    </tr>\n",
              "    <tr>\n",
              "      <th>1</th>\n",
              "      <td>21400899</td>\n",
              "      <td>MAR 04, 2015 - CHA @ BKN</td>\n",
              "      <td>A</td>\n",
              "      <td>W</td>\n",
              "      <td>24</td>\n",
              "      <td>2</td>\n",
              "      <td>1</td>\n",
              "      <td>0:14</td>\n",
              "      <td>3.4</td>\n",
              "      <td>0</td>\n",
              "      <td>0.8</td>\n",
              "      <td>28.2</td>\n",
              "      <td>3</td>\n",
              "      <td>missed</td>\n",
              "      <td>Bogdanovic, Bojan</td>\n",
              "      <td>202711</td>\n",
              "      <td>6.1</td>\n",
              "      <td>0</td>\n",
              "      <td>0</td>\n",
              "      <td>brian roberts</td>\n",
              "      <td>203148</td>\n",
              "      <td>MAR</td>\n",
              "    </tr>\n",
              "    <tr>\n",
              "      <th>2</th>\n",
              "      <td>21400899</td>\n",
              "      <td>MAR 04, 2015 - CHA @ BKN</td>\n",
              "      <td>A</td>\n",
              "      <td>W</td>\n",
              "      <td>24</td>\n",
              "      <td>3</td>\n",
              "      <td>1</td>\n",
              "      <td>0:00</td>\n",
              "      <td>NaN</td>\n",
              "      <td>3</td>\n",
              "      <td>2.7</td>\n",
              "      <td>10.1</td>\n",
              "      <td>2</td>\n",
              "      <td>missed</td>\n",
              "      <td>Bogdanovic, Bojan</td>\n",
              "      <td>202711</td>\n",
              "      <td>0.9</td>\n",
              "      <td>0</td>\n",
              "      <td>0</td>\n",
              "      <td>brian roberts</td>\n",
              "      <td>203148</td>\n",
              "      <td>MAR</td>\n",
              "    </tr>\n",
              "    <tr>\n",
              "      <th>3</th>\n",
              "      <td>21400899</td>\n",
              "      <td>MAR 04, 2015 - CHA @ BKN</td>\n",
              "      <td>A</td>\n",
              "      <td>W</td>\n",
              "      <td>24</td>\n",
              "      <td>4</td>\n",
              "      <td>2</td>\n",
              "      <td>11:47</td>\n",
              "      <td>10.3</td>\n",
              "      <td>2</td>\n",
              "      <td>1.9</td>\n",
              "      <td>17.2</td>\n",
              "      <td>2</td>\n",
              "      <td>missed</td>\n",
              "      <td>Brown, Markel</td>\n",
              "      <td>203900</td>\n",
              "      <td>3.4</td>\n",
              "      <td>0</td>\n",
              "      <td>0</td>\n",
              "      <td>brian roberts</td>\n",
              "      <td>203148</td>\n",
              "      <td>MAR</td>\n",
              "    </tr>\n",
              "    <tr>\n",
              "      <th>4</th>\n",
              "      <td>21400899</td>\n",
              "      <td>MAR 04, 2015 - CHA @ BKN</td>\n",
              "      <td>A</td>\n",
              "      <td>W</td>\n",
              "      <td>24</td>\n",
              "      <td>5</td>\n",
              "      <td>2</td>\n",
              "      <td>10:34</td>\n",
              "      <td>10.9</td>\n",
              "      <td>2</td>\n",
              "      <td>2.7</td>\n",
              "      <td>3.7</td>\n",
              "      <td>2</td>\n",
              "      <td>missed</td>\n",
              "      <td>Young, Thaddeus</td>\n",
              "      <td>201152</td>\n",
              "      <td>1.1</td>\n",
              "      <td>0</td>\n",
              "      <td>0</td>\n",
              "      <td>brian roberts</td>\n",
              "      <td>203148</td>\n",
              "      <td>MAR</td>\n",
              "    </tr>\n",
              "  </tbody>\n",
              "</table>\n",
              "</div>"
            ],
            "text/plain": [
              "    GAME_ID                   MATCHUP LOCATION  ...    player_name  player_id  MONTH\n",
              "0  21400899  MAR 04, 2015 - CHA @ BKN        A  ...  brian roberts     203148    MAR\n",
              "1  21400899  MAR 04, 2015 - CHA @ BKN        A  ...  brian roberts     203148    MAR\n",
              "2  21400899  MAR 04, 2015 - CHA @ BKN        A  ...  brian roberts     203148    MAR\n",
              "3  21400899  MAR 04, 2015 - CHA @ BKN        A  ...  brian roberts     203148    MAR\n",
              "4  21400899  MAR 04, 2015 - CHA @ BKN        A  ...  brian roberts     203148    MAR\n",
              "\n",
              "[5 rows x 22 columns]"
            ]
          },
          "metadata": {
            "tags": []
          },
          "execution_count": 28
        }
      ]
    },
    {
      "cell_type": "code",
      "metadata": {
        "id": "d6hwc8abahis",
        "colab_type": "code",
        "outputId": "5e2df285-1ecd-4f68-e7bf-a656b39f176a",
        "colab": {
          "base_uri": "https://localhost:8080/",
          "height": 123
        }
      },
      "source": [
        "# Create subsets of data where shots are separated by month\n",
        "\n",
        "october_shots = df[df['MONTH'] == 'OCT']\n",
        "november_shots = df[df['MONTH'] == 'NOV']\n",
        "december_shots = df[df['MONTH'] == 'DEC']\n",
        "january_shots = df[df['MONTH'] == 'JAN']\n",
        "february_shots = df[df['MONTH'] == 'FEB']\n",
        "march_shots = df[df['MONTH'] == 'MAR']\n",
        "\n",
        "print(october_shots.shape)\n",
        "print(november_shots.shape)\n",
        "print(december_shots.shape)\n",
        "print(january_shots.shape)\n",
        "print(february_shots.shape)\n",
        "print(march_shots.shape)"
      ],
      "execution_count": 29,
      "outputs": [
        {
          "output_type": "stream",
          "text": [
            "(3533, 22)\n",
            "(30700, 22)\n",
            "(34502, 22)\n",
            "(33262, 22)\n",
            "(21716, 22)\n",
            "(4356, 22)\n"
          ],
          "name": "stdout"
        }
      ]
    },
    {
      "cell_type": "code",
      "metadata": {
        "id": "AmATQanE7lkK",
        "colab_type": "code",
        "outputId": "b0bb4d90-a8bc-40e1-dc04-6a58371f2636",
        "colab": {
          "base_uri": "https://localhost:8080/",
          "height": 123
        }
      },
      "source": [
        "# Averages for each month (multiply by 100 and you would get FG %)\n",
        "\n",
        "print(f\"October FG%:\", october_shots['FGM'].mean())\n",
        "print(f\"November FG%:\",november_shots['FGM'].mean())\n",
        "print(f\"December FG%:\",december_shots['FGM'].mean())\n",
        "print(f\"January FG%:\",january_shots['FGM'].mean())\n",
        "print(f\"February FG%:\",february_shots['FGM'].mean())\n",
        "print(f\"March FG%:\",march_shots['FGM'].mean())"
      ],
      "execution_count": 30,
      "outputs": [
        {
          "output_type": "stream",
          "text": [
            "October FG%: 0.4548542315312765\n",
            "November FG%: 0.45615635179153097\n",
            "December FG%: 0.4563503565010724\n",
            "January FG%: 0.4491612049786543\n",
            "February FG%: 0.4457542825566403\n",
            "March FG%: 0.4428374655647383\n"
          ],
          "name": "stdout"
        }
      ]
    },
    {
      "cell_type": "code",
      "metadata": {
        "id": "N9YOlVg_DK76",
        "colab_type": "code",
        "outputId": "620a992d-e0da-44e3-faf3-09e7c5e0092e",
        "colab": {
          "base_uri": "https://localhost:8080/",
          "height": 34
        }
      },
      "source": [
        "# Overall FG% of the dataset\n",
        "\n",
        "df['FGM'].mean()"
      ],
      "execution_count": 31,
      "outputs": [
        {
          "output_type": "execute_result",
          "data": {
            "text/plain": [
              "0.4521390812764994"
            ]
          },
          "metadata": {
            "tags": []
          },
          "execution_count": 31
        }
      ]
    },
    {
      "cell_type": "code",
      "metadata": {
        "id": "X-zljS_MmAMQ",
        "colab_type": "code",
        "outputId": "708afb6e-c907-457c-ef9f-c27a67632ed9",
        "colab": {
          "base_uri": "https://localhost:8080/",
          "height": 608
        }
      },
      "source": [
        "import matplotlib.pyplot as plt\n",
        "\n",
        "# Set graph style\n",
        "\n",
        "plt.style.use('classic')\n",
        "\n",
        "# Assign x-axis and y-axis data to variables\n",
        "x = ['Oct', 'Nov', 'Dec', 'Jan', 'Feb', 'Mar']\n",
        "y = [october_shots['FGM'].mean(), november_shots['FGM'].mean(), \n",
        "         december_shots['FGM'].mean(), january_shots['FGM'].mean(),\n",
        "         february_shots['FGM'].mean(), march_shots['FGM'].mean()]\n",
        "\n",
        "# Create figure and axes variables\n",
        "fig5, ax = plt.subplots(figsize=(10,8))\n",
        "\n",
        "# Set figure background color\n",
        "fig5.set_facecolor('#ffffff')\n",
        "\n",
        "# Plot the line graph\n",
        "ax.plot(x, y, marker='o', markersize=7)\n",
        "\n",
        "# Y-axis limits\n",
        "plt.ylim(.43, .47)\n",
        "\n",
        "# Set Title\n",
        "ax.set_title('Shooting Percentage by Month (2014-15 Season)',\n",
        "             x=.5, y=1.05, fontsize=20, fontweight='heavy', color='#0024fd',\n",
        "             alpha=.85)\n",
        "\n",
        "# Y-ticks\n",
        "ax.set_yticklabels(['43%', '43.5', '44','44.5', '45', '45.5','46', '46.5',\n",
        "                    '47%'])\n",
        "\n",
        "# Tick Parameters\n",
        "ax.tick_params(axis='both', which='major', labelsize=12, color='black')\n",
        "\n",
        "# Asthetics\n",
        "\n",
        "# Fill in area underneath the graph\n",
        "plt.fill_between(x, y, color=\"#73b7eb\", alpha=0.4)\n",
        "\n",
        "# # Plot and Annotate the overall FG % from the 2014-15 season\n",
        "ax.axhline(y=df['FGM'].mean(), linestyle=':', color='black')\n",
        "# ax.annotate('Overall FG % That\\nSeason (~ 45.2%)', ('Feb', .452), \n",
        "#             textcoords='axes fraction', xytext=(0.8, 0.8),\n",
        "#             arrowprops=dict(facecolor='black', shrink=0.1), fontsize=14,\n",
        "#             horizontalalignment='center', verticalalignment='top')\n",
        "\n",
        "ax.annotate(\"Overall FG % That\\nSeason (~ 45.2%)\",\n",
        "                  xy=(4, .4525), xytext=(3.5, 0.465),\n",
        "                  size=16, va=\"center\", ha=\"center\",\n",
        "                  bbox=dict(boxstyle=\"round4\", fc=\"w\"),\n",
        "                  arrowprops=dict(arrowstyle=\"-|>\",\n",
        "                                  connectionstyle=\"arc3,rad=-0.2\",\n",
        "                                  fc=\"w\"))\n",
        "\n",
        "# Show the graph, squelch the return output\n",
        "plt.show()"
      ],
      "execution_count": 32,
      "outputs": [
        {
          "output_type": "display_data",
          "data": {
            "image/png": "[encoded data removed]",
            "text/plain": [
              "<Figure size 800x640 with 1 Axes>"
            ]
          },
          "metadata": {
            "tags": []
          }
        }
      ]
    },
    {
      "cell_type": "markdown",
      "metadata": {
        "id": "pGfQWgA-YcnR",
        "colab_type": "text"
      },
      "source": [
        "### Just for Fun\n",
        "\n",
        "Combine 2 pointers, home shots, regulation shots, first half possession shots, and December shots and then see the FG %"
      ]
    },
    {
      "cell_type": "code",
      "metadata": {
        "id": "2Y1Hu8j_3BUC",
        "colab_type": "code",
        "outputId": "90b619b7-9d44-42ef-910d-28c75a6d0061",
        "colab": {
          "base_uri": "https://localhost:8080/",
          "height": 485
        }
      },
      "source": [
        "df_highest = df[(df['PTS_TYPE'] == 2) & (df['LOCATION'] == 'H') & \n",
        "                (df['PERIOD'] <= 4) & (df_test['SHOT_CLOCK'] >= 12.0) & \n",
        "                (df['MONTH'] == 'DEC')]\n",
        "\n",
        "print(df_highest.shape)\n",
        "df_highest.head()"
      ],
      "execution_count": 33,
      "outputs": [
        {
          "output_type": "stream",
          "text": [
            "(6460, 22)\n"
          ],
          "name": "stdout"
        },
        {
          "output_type": "execute_result",
          "data": {
            "text/html": [
              "<div>\n",
              "<style scoped>\n",
              "    .dataframe tbody tr th:only-of-type {\n",
              "        vertical-align: middle;\n",
              "    }\n",
              "\n",
              "    .dataframe tbody tr th {\n",
              "        vertical-align: top;\n",
              "    }\n",
              "\n",
              "    .dataframe thead th {\n",
              "        text-align: right;\n",
              "    }\n",
              "</style>\n",
              "<table border=\"1\" class=\"dataframe\">\n",
              "  <thead>\n",
              "    <tr style=\"text-align: right;\">\n",
              "      <th></th>\n",
              "      <th>GAME_ID</th>\n",
              "      <th>MATCHUP</th>\n",
              "      <th>LOCATION</th>\n",
              "      <th>W</th>\n",
              "      <th>FINAL_MARGIN</th>\n",
              "      <th>SHOT_NUMBER</th>\n",
              "      <th>PERIOD</th>\n",
              "      <th>GAME_CLOCK</th>\n",
              "      <th>SHOT_CLOCK</th>\n",
              "      <th>DRIBBLES</th>\n",
              "      <th>TOUCH_TIME</th>\n",
              "      <th>SHOT_DIST</th>\n",
              "      <th>PTS_TYPE</th>\n",
              "      <th>SHOT_RESULT</th>\n",
              "      <th>CLOSEST_DEFENDER</th>\n",
              "      <th>CLOSEST_DEFENDER_PLAYER_ID</th>\n",
              "      <th>CLOSE_DEF_DIST</th>\n",
              "      <th>FGM</th>\n",
              "      <th>PTS</th>\n",
              "      <th>player_name</th>\n",
              "      <th>player_id</th>\n",
              "      <th>MONTH</th>\n",
              "    </tr>\n",
              "  </thead>\n",
              "  <tbody>\n",
              "    <tr>\n",
              "      <th>185</th>\n",
              "      <td>21400459</td>\n",
              "      <td>DEC 29, 2014 - CHA vs. MIL</td>\n",
              "      <td>H</td>\n",
              "      <td>L</td>\n",
              "      <td>-10</td>\n",
              "      <td>1</td>\n",
              "      <td>2</td>\n",
              "      <td>11:37</td>\n",
              "      <td>16.9</td>\n",
              "      <td>8</td>\n",
              "      <td>6.9</td>\n",
              "      <td>19.2</td>\n",
              "      <td>2</td>\n",
              "      <td>made</td>\n",
              "      <td>Marshall, Kendall</td>\n",
              "      <td>203088</td>\n",
              "      <td>2.7</td>\n",
              "      <td>1</td>\n",
              "      <td>2</td>\n",
              "      <td>brian roberts</td>\n",
              "      <td>203148</td>\n",
              "      <td>DEC</td>\n",
              "    </tr>\n",
              "    <tr>\n",
              "      <th>194</th>\n",
              "      <td>21400444</td>\n",
              "      <td>DEC 27, 2014 - CHA vs. ORL</td>\n",
              "      <td>H</td>\n",
              "      <td>L</td>\n",
              "      <td>-8</td>\n",
              "      <td>3</td>\n",
              "      <td>2</td>\n",
              "      <td>8:14</td>\n",
              "      <td>14.6</td>\n",
              "      <td>11</td>\n",
              "      <td>9.2</td>\n",
              "      <td>19.7</td>\n",
              "      <td>2</td>\n",
              "      <td>missed</td>\n",
              "      <td>Payton, Elfrid</td>\n",
              "      <td>203901</td>\n",
              "      <td>4.5</td>\n",
              "      <td>0</td>\n",
              "      <td>0</td>\n",
              "      <td>brian roberts</td>\n",
              "      <td>203148</td>\n",
              "      <td>DEC</td>\n",
              "    </tr>\n",
              "    <tr>\n",
              "      <th>209</th>\n",
              "      <td>21400409</td>\n",
              "      <td>DEC 22, 2014 - CHA vs. DEN</td>\n",
              "      <td>H</td>\n",
              "      <td>W</td>\n",
              "      <td>28</td>\n",
              "      <td>1</td>\n",
              "      <td>2</td>\n",
              "      <td>11:23</td>\n",
              "      <td>13.5</td>\n",
              "      <td>12</td>\n",
              "      <td>8.5</td>\n",
              "      <td>21.3</td>\n",
              "      <td>2</td>\n",
              "      <td>made</td>\n",
              "      <td>Faried, Kenneth</td>\n",
              "      <td>202702</td>\n",
              "      <td>4.6</td>\n",
              "      <td>1</td>\n",
              "      <td>2</td>\n",
              "      <td>brian roberts</td>\n",
              "      <td>203148</td>\n",
              "      <td>DEC</td>\n",
              "    </tr>\n",
              "    <tr>\n",
              "      <th>210</th>\n",
              "      <td>21400409</td>\n",
              "      <td>DEC 22, 2014 - CHA vs. DEN</td>\n",
              "      <td>H</td>\n",
              "      <td>W</td>\n",
              "      <td>28</td>\n",
              "      <td>2</td>\n",
              "      <td>2</td>\n",
              "      <td>10:57</td>\n",
              "      <td>16.3</td>\n",
              "      <td>7</td>\n",
              "      <td>6.5</td>\n",
              "      <td>10.5</td>\n",
              "      <td>2</td>\n",
              "      <td>missed</td>\n",
              "      <td>Robinson, Nate</td>\n",
              "      <td>101126</td>\n",
              "      <td>1.6</td>\n",
              "      <td>0</td>\n",
              "      <td>0</td>\n",
              "      <td>brian roberts</td>\n",
              "      <td>203148</td>\n",
              "      <td>DEC</td>\n",
              "    </tr>\n",
              "    <tr>\n",
              "      <th>211</th>\n",
              "      <td>21400409</td>\n",
              "      <td>DEC 22, 2014 - CHA vs. DEN</td>\n",
              "      <td>H</td>\n",
              "      <td>W</td>\n",
              "      <td>28</td>\n",
              "      <td>3</td>\n",
              "      <td>2</td>\n",
              "      <td>8:07</td>\n",
              "      <td>12.0</td>\n",
              "      <td>0</td>\n",
              "      <td>11.2</td>\n",
              "      <td>13.8</td>\n",
              "      <td>2</td>\n",
              "      <td>missed</td>\n",
              "      <td>Robinson, Nate</td>\n",
              "      <td>101126</td>\n",
              "      <td>4.0</td>\n",
              "      <td>0</td>\n",
              "      <td>0</td>\n",
              "      <td>brian roberts</td>\n",
              "      <td>203148</td>\n",
              "      <td>DEC</td>\n",
              "    </tr>\n",
              "  </tbody>\n",
              "</table>\n",
              "</div>"
            ],
            "text/plain": [
              "      GAME_ID                     MATCHUP  ... player_id MONTH\n",
              "185  21400459  DEC 29, 2014 - CHA vs. MIL  ...    203148   DEC\n",
              "194  21400444  DEC 27, 2014 - CHA vs. ORL  ...    203148   DEC\n",
              "209  21400409  DEC 22, 2014 - CHA vs. DEN  ...    203148   DEC\n",
              "210  21400409  DEC 22, 2014 - CHA vs. DEN  ...    203148   DEC\n",
              "211  21400409  DEC 22, 2014 - CHA vs. DEN  ...    203148   DEC\n",
              "\n",
              "[5 rows x 22 columns]"
            ]
          },
          "metadata": {
            "tags": []
          },
          "execution_count": 33
        }
      ]
    },
    {
      "cell_type": "code",
      "metadata": {
        "id": "dvhfQxhkX9Uv",
        "colab_type": "code",
        "outputId": "ec8f721a-338e-4df5-95f9-bbd65002f6f1",
        "colab": {
          "base_uri": "https://localhost:8080/",
          "height": 34
        }
      },
      "source": [
        "# Print the FG % rounded to 2 decimals\n",
        "\n",
        "print(f\"The resulting FG % is\", round(df_highest['FGM'].mean()*100, 2), f\"%\")"
      ],
      "execution_count": 35,
      "outputs": [
        {
          "output_type": "stream",
          "text": [
            "The resulting FG % is 53.37 %\n"
          ],
          "name": "stdout"
        }
      ]
    }
  ]
}